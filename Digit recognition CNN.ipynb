{
 "cells": [
  {
   "cell_type": "code",
   "execution_count": 16,
   "metadata": {},
   "outputs": [],
   "source": [
    "import pandas as pd\n",
    "import numpy as np\n",
    "from keras.models import Sequential\n",
    "from keras.layers import Conv2D, MaxPooling2D, Flatten, Dense, Dropout, Activation\n",
    "from keras.utils import to_categorical\n",
    "from keras.optimizers import SGD"
   ]
  },
  {
   "cell_type": "code",
   "execution_count": 22,
   "metadata": {},
   "outputs": [
    {
     "name": "stdout",
     "output_type": "stream",
     "text": [
      "(23824, 28, 28, 1) (23824, 10) (2653, 28, 28, 1) (2653, 10)\n"
     ]
    }
   ],
   "source": [
    "X_train = open('train_images.txt').readlines()[0]\n",
    "X_train = [int(x.strip()) for x in X_train.split()]\n",
    "X_train = np.array(X_train).reshape(-1, 28, 28, 1)\n",
    "\n",
    "X_test = open('test_images.txt').readlines()[0]\n",
    "X_test = [int(x.strip()) for x in X_test.split()]\n",
    "X_test = np.array(X_test).reshape(-1, 28, 28, 1)\n",
    "\n",
    "Y_train = open('train_labels_mod.txt').readlines()[0]\n",
    "Y_train = [int(x.strip()) for x in Y_train.split()]\n",
    "Y_train = to_categorical(np.array(Y_train), num_classes=10)\n",
    "\n",
    "data = open('test_labels_mod.txt', encoding='utf-8').readlines()[0]\n",
    "Y_test = []\n",
    "for x in data.split():\n",
    "    try:\n",
    "        Y_test.append(int(x.strip()))\n",
    "    except:\n",
    "        Y_test.append(7)\n",
    "\n",
    "Y_test = to_categorical(np.array(Y_test), num_classes=10)\n",
    "\n",
    "print(X_train.shape, Y_train.shape, X_test.shape, Y_test.shape)"
   ]
  },
  {
   "cell_type": "code",
   "execution_count": 23,
   "metadata": {},
   "outputs": [
    {
     "name": "stderr",
     "output_type": "stream",
     "text": [
      "D:\\Anaconda\\lib\\site-packages\\ipykernel_launcher.py:5: DeprecationWarning: `imsave` is deprecated!\n",
      "`imsave` is deprecated in SciPy 1.0.0, and will be removed in 1.2.0.\n",
      "Use ``imageio.imwrite`` instead.\n",
      "  \"\"\"\n"
     ]
    }
   ],
   "source": [
    "from scipy.misc import imsave\n",
    "\n",
    "X = X_train.reshape(-1, 28, 28)\n",
    "for i in range(100):\n",
    "    imsave('img/images_{}.jpg'.format(i), X[i, :, :])"
   ]
  },
  {
   "cell_type": "code",
   "execution_count": 24,
   "metadata": {},
   "outputs": [
    {
     "name": "stdout",
     "output_type": "stream",
     "text": [
      "_________________________________________________________________\n",
      "Layer (type)                 Output Shape              Param #   \n",
      "=================================================================\n",
      "conv2d_7 (Conv2D)            (None, 28, 28, 32)        320       \n",
      "_________________________________________________________________\n",
      "max_pooling2d_7 (MaxPooling2 (None, 14, 14, 32)        0         \n",
      "_________________________________________________________________\n",
      "conv2d_8 (Conv2D)            (None, 14, 14, 64)        51264     \n",
      "_________________________________________________________________\n",
      "max_pooling2d_8 (MaxPooling2 (None, 7, 7, 64)          0         \n",
      "_________________________________________________________________\n",
      "flatten_4 (Flatten)          (None, 3136)              0         \n",
      "_________________________________________________________________\n",
      "dense_7 (Dense)              (None, 100)               313700    \n",
      "_________________________________________________________________\n",
      "dropout_4 (Dropout)          (None, 100)               0         \n",
      "_________________________________________________________________\n",
      "dense_8 (Dense)              (None, 10)                1010      \n",
      "_________________________________________________________________\n",
      "activation_3 (Activation)    (None, 10)                0         \n",
      "=================================================================\n",
      "Total params: 366,294\n",
      "Trainable params: 366,294\n",
      "Non-trainable params: 0\n",
      "_________________________________________________________________\n"
     ]
    }
   ],
   "source": [
    "#The Model\n",
    "model = Sequential()\n",
    "\n",
    "model.add(Conv2D(32, (3, 3), padding='SAME', activation='relu', input_shape=(28, 28, 1)))\n",
    "model.add(MaxPooling2D(pool_size=(2, 2)))\n",
    "\n",
    "model.add(Conv2D(64, (5, 5), padding='SAME', activation='relu'))\n",
    "model.add(MaxPooling2D(pool_size=(2, 2)))\n",
    "\n",
    "model.add(Flatten())\n",
    "\n",
    "model.add(Dense(100, activation='relu'))\n",
    "model.add(Dropout(0.4))\n",
    "\n",
    "model.add(Dense(10))\n",
    "model.add(Activation(activation=\"softmax\"))\n",
    "\n",
    "model.summary()"
   ]
  },
  {
   "cell_type": "code",
   "execution_count": 25,
   "metadata": {},
   "outputs": [
    {
     "name": "stdout",
     "output_type": "stream",
     "text": [
      "Train on 23824 samples, validate on 2653 samples\n",
      "Epoch 1/15\n",
      "23824/23824 [==============================] - 68s 3ms/step - loss: 3.6551 - acc: 0.6241 - val_loss: 0.2422 - val_acc: 0.9284\n",
      "Epoch 2/15\n",
      "23824/23824 [==============================] - 57s 2ms/step - loss: 0.3223 - acc: 0.8956 - val_loss: 0.1585 - val_acc: 0.9533\n",
      "Epoch 3/15\n",
      "23824/23824 [==============================] - 66s 3ms/step - loss: 0.2282 - acc: 0.9291 - val_loss: 0.1241 - val_acc: 0.9657\n",
      "Epoch 4/15\n",
      "23824/23824 [==============================] - 68s 3ms/step - loss: 0.1806 - acc: 0.9413 - val_loss: 0.1106 - val_acc: 0.9698\n",
      "Epoch 5/15\n",
      "23824/23824 [==============================] - 66s 3ms/step - loss: 0.1492 - acc: 0.9519 - val_loss: 0.1011 - val_acc: 0.9717\n",
      "Epoch 6/15\n",
      "23824/23824 [==============================] - 63s 3ms/step - loss: 0.1411 - acc: 0.9561 - val_loss: 0.0971 - val_acc: 0.9725\n",
      "Epoch 7/15\n",
      "23824/23824 [==============================] - 64s 3ms/step - loss: 0.1256 - acc: 0.9607 - val_loss: 0.0907 - val_acc: 0.9751\n",
      "Epoch 8/15\n",
      "23824/23824 [==============================] - 64s 3ms/step - loss: 0.1087 - acc: 0.9665 - val_loss: 0.0860 - val_acc: 0.9789\n",
      "Epoch 9/15\n",
      "23824/23824 [==============================] - 66s 3ms/step - loss: 0.0991 - acc: 0.9686 - val_loss: 0.0840 - val_acc: 0.9766\n",
      "Epoch 10/15\n",
      "23824/23824 [==============================] - 70s 3ms/step - loss: 0.0905 - acc: 0.9711 - val_loss: 0.0794 - val_acc: 0.9785\n",
      "Epoch 11/15\n",
      "23824/23824 [==============================] - 70s 3ms/step - loss: 0.0859 - acc: 0.9736 - val_loss: 0.0783 - val_acc: 0.9796\n",
      "Epoch 12/15\n",
      "23824/23824 [==============================] - 65s 3ms/step - loss: 0.0788 - acc: 0.9744 - val_loss: 0.0726 - val_acc: 0.9819\n",
      "Epoch 13/15\n",
      "23824/23824 [==============================] - 58s 2ms/step - loss: 0.0681 - acc: 0.9787 - val_loss: 0.0721 - val_acc: 0.9838\n",
      "Epoch 14/15\n",
      "23824/23824 [==============================] - 58s 2ms/step - loss: 0.0702 - acc: 0.9784 - val_loss: 0.0676 - val_acc: 0.9842\n",
      "Epoch 15/15\n",
      "23824/23824 [==============================] - 64s 3ms/step - loss: 0.0638 - acc: 0.9800 - val_loss: 0.0695 - val_acc: 0.9823\n"
     ]
    },
    {
     "data": {
      "text/plain": [
       "<keras.callbacks.History at 0x2160fed6e48>"
      ]
     },
     "execution_count": 25,
     "metadata": {},
     "output_type": "execute_result"
    }
   ],
   "source": [
    "batch = 500\n",
    "eps = 15\n",
    "\n",
    "opt = SGD(lr=0.01, decay=1e-5)\n",
    "model.compile(opt, loss='categorical_crossentropy', metrics=['accuracy'])\n",
    "\n",
    "model.fit(X_train, Y_train, batch_size=batch, epochs=eps, validation_data=(X_test, Y_test))"
   ]
  }
 ],
 "metadata": {
  "kernelspec": {
   "display_name": "Python 3",
   "language": "python",
   "name": "python3"
  },
  "language_info": {
   "codemirror_mode": {
    "name": "ipython",
    "version": 3
   },
   "file_extension": ".py",
   "mimetype": "text/x-python",
   "name": "python",
   "nbconvert_exporter": "python",
   "pygments_lexer": "ipython3",
   "version": "3.6.4"
  }
 },
 "nbformat": 4,
 "nbformat_minor": 2
}
